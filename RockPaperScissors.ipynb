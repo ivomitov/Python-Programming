{
  "nbformat": 4,
  "nbformat_minor": 0,
  "metadata": {
    "colab": {
      "provenance": []
    },
    "kernelspec": {
      "name": "python3",
      "display_name": "Python 3"
    },
    "language_info": {
      "name": "python"
    }
  },
  "cells": [
    {
      "cell_type": "code",
      "execution_count": null,
      "metadata": {
        "id": "m17RN7pP_am2"
      },
      "outputs": [],
      "source": [
        "#MITOV Ivaylo Rosenov, ID:1120239k\n",
        "\n",
        "import random\n",
        "listA = ['rock', 'paper', 'scissors']\n",
        "\n",
        "#1: rock, 2: paper, 3:scisors\n",
        "a = random.randint(1,3)\n",
        "b = int(input('1: rock, 2: paper, 3:scisors'))\n",
        "\n",
        "print(\"Opponent: \", listA[a-1])\n",
        "print(\"You: \", listA[b-1])\n",
        "\n",
        "if a == 1:\n",
        "  if b == 1:\n",
        "    print('Draw')\n",
        "  elif b == 2:\n",
        "    print(\"You won\")\n",
        "  else:\n",
        "    print('You lost')\n",
        "elif a == 2:\n",
        "  if b == 1:\n",
        "    print('You lost')\n",
        "  elif b == 2:\n",
        "    print(\"Draw\")\n",
        "  else:\n",
        "    print('You won')\n",
        "elif a == 3:\n",
        "  if b == 1:\n",
        "    print('You won')\n",
        "  elif b == 2:\n",
        "    print(\"You lost\")\n",
        "  else:\n",
        "    print('Draw')"
      ]
    }
  ]
}