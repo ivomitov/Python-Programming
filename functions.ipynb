{
  "nbformat": 4,
  "nbformat_minor": 0,
  "metadata": {
    "colab": {
      "provenance": []
    },
    "kernelspec": {
      "name": "python3",
      "display_name": "Python 3"
    },
    "language_info": {
      "name": "python"
    }
  },
  "cells": [
    {
      "cell_type": "code",
      "execution_count": 2,
      "metadata": {
        "id": "43SEiXie4LcC"
      },
      "outputs": [],
      "source": [
        "def BMI(height, weight):\n",
        "  bmi = weight / height ** 2\n",
        "  return bmi"
      ]
    },
    {
      "cell_type": "code",
      "source": [
        "print(BMI(2, 180))"
      ],
      "metadata": {
        "colab": {
          "base_uri": "https://localhost:8080/"
        },
        "id": "-_xnRk9t5Tm2",
        "outputId": "99023ed7-9c52-4648-d790-f16b9138b464"
      },
      "execution_count": 5,
      "outputs": [
        {
          "output_type": "stream",
          "name": "stdout",
          "text": [
            "45.0\n"
          ]
        }
      ]
    },
    {
      "cell_type": "code",
      "source": [
        "a = BMI(2, 100)\n",
        "print(a)"
      ],
      "metadata": {
        "colab": {
          "base_uri": "https://localhost:8080/"
        },
        "id": "Co2Ug45T5dH2",
        "outputId": "19368526-163d-45df-ec0e-649ae1314ba6"
      },
      "execution_count": 7,
      "outputs": [
        {
          "output_type": "stream",
          "name": "stdout",
          "text": [
            "25.0\n"
          ]
        }
      ]
    },
    {
      "cell_type": "code",
      "source": [
        "#Find the area of a circle with a radius r\n",
        "def area(r):\n",
        "  area = 3.14 * r ** 2\n",
        "  return area\n",
        "\n",
        "area(2)"
      ],
      "metadata": {
        "colab": {
          "base_uri": "https://localhost:8080/"
        },
        "id": "Dmc_-jGg50AW",
        "outputId": "ef14324b-54c4-48f5-a443-1c3467aded7f"
      },
      "execution_count": 9,
      "outputs": [
        {
          "output_type": "execute_result",
          "data": {
            "text/plain": [
              "12.56"
            ]
          },
          "metadata": {},
          "execution_count": 9
        }
      ]
    },
    {
      "cell_type": "code",
      "source": [
        "#Cube calculator\n",
        "def cubed(x):\n",
        "  x_cubed = x ** 3\n",
        "  return x_cubed\n",
        "\n",
        "print(cubed(6))"
      ],
      "metadata": {
        "colab": {
          "base_uri": "https://localhost:8080/"
        },
        "id": "il2pDhXm50Fw",
        "outputId": "82ac0021-0f4d-40bc-fafb-9fb177e3de1c"
      },
      "execution_count": 10,
      "outputs": [
        {
          "output_type": "stream",
          "name": "stdout",
          "text": [
            "216\n"
          ]
        }
      ]
    },
    {
      "cell_type": "code",
      "source": [
        "#Celsius to Farenheit\n",
        "def CtoF(C):\n",
        "  F = C * 9/5 + 32\n",
        "  return F\n",
        "\n",
        "print(CtoF(36))"
      ],
      "metadata": {
        "colab": {
          "base_uri": "https://localhost:8080/"
        },
        "id": "0MHkswiF6ag2",
        "outputId": "2c8edd59-1d04-4ac1-f89b-3113a0bb1898"
      },
      "execution_count": 12,
      "outputs": [
        {
          "output_type": "stream",
          "name": "stdout",
          "text": [
            "96.8\n"
          ]
        }
      ]
    },
    {
      "cell_type": "code",
      "source": [
        "def FtoC(f):\n",
        "  c = (f-30)/2\n",
        "  return c\n",
        "\n",
        "F = float(input())\n",
        "C = FtoC(F)\n",
        "print(C)"
      ],
      "metadata": {
        "colab": {
          "base_uri": "https://localhost:8080/"
        },
        "id": "Ikw6x2597VL3",
        "outputId": "927c4d78-d14c-4af4-a62a-7986f15f55e2"
      },
      "execution_count": 15,
      "outputs": [
        {
          "output_type": "stream",
          "name": "stdout",
          "text": [
            "96.8\n",
            "33.4\n"
          ]
        }
      ]
    },
    {
      "cell_type": "code",
      "source": [
        "#Fibonacci numbers, self-referencing, this program runs because it is given a termination condition\n",
        "def fib(n):\n",
        "  if n == 0:\n",
        "    return 0\n",
        "  elif n == 1:\n",
        "    return 1\n",
        "  else:\n",
        "    return fib(n-2) + fib(n-1)\n",
        "\n",
        "n = int(input())\n",
        "print(fib(n))"
      ],
      "metadata": {
        "colab": {
          "base_uri": "https://localhost:8080/"
        },
        "id": "QxB6VOSj7g8o",
        "outputId": "59bb01cf-8e59-46cc-9691-40a84fe1341d"
      },
      "execution_count": 18,
      "outputs": [
        {
          "output_type": "stream",
          "name": "stdout",
          "text": [
            "34\n",
            "5702887\n"
          ]
        }
      ]
    },
    {
      "cell_type": "code",
      "source": [
        "def GCD(a,b):\n",
        "  if a < b:\n",
        "    a,b = b,a\n",
        "  print(a,b)\n",
        "  if b == 0:\n",
        "    return a\n",
        "  else:\n",
        "    return GCD(b, a%b)"
      ],
      "metadata": {
        "id": "oxvEoQdD8iYI"
      },
      "execution_count": 24,
      "outputs": []
    },
    {
      "cell_type": "code",
      "source": [
        "GCD(48, 36)"
      ],
      "metadata": {
        "colab": {
          "base_uri": "https://localhost:8080/"
        },
        "id": "PHuZGt3__uUL",
        "outputId": "be24add9-3b3c-4ed8-8571-0460ef804e65"
      },
      "execution_count": 25,
      "outputs": [
        {
          "output_type": "stream",
          "name": "stdout",
          "text": [
            "48 36\n",
            "36 12\n",
            "12 0\n"
          ]
        },
        {
          "output_type": "execute_result",
          "data": {
            "text/plain": [
              "12"
            ]
          },
          "metadata": {},
          "execution_count": 25
        }
      ]
    }
  ]
}