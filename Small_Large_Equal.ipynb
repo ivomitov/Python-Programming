{
  "nbformat": 4,
  "nbformat_minor": 0,
  "metadata": {
    "colab": {
      "provenance": []
    },
    "kernelspec": {
      "name": "python3",
      "display_name": "Python 3"
    },
    "language_info": {
      "name": "python"
    }
  },
  "cells": [
    {
      "cell_type": "code",
      "execution_count": 1,
      "metadata": {
        "colab": {
          "base_uri": "https://localhost:8080/"
        },
        "id": "ulJNY4NP1KoX",
        "outputId": "34e2b6da-b009-4cb5-b1e0-59cd03475e75"
      },
      "outputs": [
        {
          "output_type": "stream",
          "name": "stdout",
          "text": [
            "4 5\n",
            "a < b\n"
          ]
        }
      ],
      "source": [
        "#Small, Large or Equal\n",
        "a, b = map(int, input().split())\n",
        "if a < b:\n",
        "  print('a < b')\n",
        "elif a > b:\n",
        "  print('a > b')\n",
        "else:\n",
        "  print('a == b')"
      ]
    }
  ]
}