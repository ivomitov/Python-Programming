{
  "nbformat": 4,
  "nbformat_minor": 0,
  "metadata": {
    "colab": {
      "provenance": []
    },
    "kernelspec": {
      "name": "python3",
      "display_name": "Python 3"
    },
    "language_info": {
      "name": "python"
    }
  },
  "cells": [
    {
      "cell_type": "code",
      "execution_count": null,
      "metadata": {
        "id": "m9pMrClMyOGn"
      },
      "outputs": [],
      "source": [
        "#MITOV Ivaylo Rosenov, ID: 1120239k, BMI Calculator\n",
        "\n",
        "W = float(input('体重は？　'))\n",
        "H = float(input('身長は？　'))\n",
        "BMI = W / H ** 2\n",
        "print(BMI)"
      ]
    }
  ]
}